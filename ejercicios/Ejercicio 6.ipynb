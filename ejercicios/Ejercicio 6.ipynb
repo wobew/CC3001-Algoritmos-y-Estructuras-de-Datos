{
  "cells": [
    {
      "cell_type": "markdown",
      "metadata": {
        "id": "85iyWpCuSJE8"
      },
      "source": [
        "### Ejercicio 4.5\n",
        "\n",
        "Suponga que los campos ``info`` de los nodos externos de un árbol contienen solo números y escriba una función que pueda invocarse como ``formula.evaluar()``, que al ser ejecutada entregue el valor numérico  de la fórmula representada por el árbol. Modifique a continuación la definición de las clases ``Arbol``, ``Nodoi`` y ``Nodoe`` para que incluyan la nueva función ``evaluar()``. Note que tiene que implementar la función ``evaluar()`` en las tres clases."
      ]
    },
    {
      "cell_type": "code",
      "execution_count": null,
      "metadata": {
        "id": "rXDhXqMLSJE8"
      },
      "outputs": [],
      "source": [
        "class Nodoi:\n",
        "    def __init__(self, izq, info, der):\n",
        "        self.izq = izq\n",
        "        self.info = info\n",
        "        self.der = der\n",
        "    def evaluar(self):\n",
        "        if self.info == \"+\":\n",
        "            return self.izq.evaluar() + self.der.evaluar()\n",
        "        elif self.info == \"-\":\n",
        "            return self.izq.evaluar() - self.der.evaluar()\n",
        "        elif self.info == \"*\":\n",
        "            return self.izq.evaluar() * self.der.evaluar()\n",
        "        elif self.info == \"/\":\n",
        "            return self.izq.evaluar() / self.der.evaluar()\n",
        "        else:\n",
        "            return self.info\n",
        "\n",
        "class Nodoe:\n",
        "    def __init__(self, info=\"\"):\n",
        "        self.info = info\n",
        "    def evaluar(self):\n",
        "        return self.info\n",
        "\n",
        "class Arbol:\n",
        "    def __init__(self, raiz=Nodoe()):\n",
        "        self.raiz = raiz\n",
        "    def evaluar(self):\n",
        "        return self.raiz.evaluar()"
      ]
    },
    {
      "cell_type": "markdown",
      "metadata": {
        "id": "kgGAXxwGSJE8"
      },
      "source": [
        "Pruébela a continuación:"
      ]
    },
    {
      "cell_type": "code",
      "execution_count": null,
      "metadata": {
        "id": "mrpRShFDSJE9",
        "colab": {
          "base_uri": "https://localhost:8080/"
        },
        "outputId": "5db8ee14-f11d-4826-f995-82574a282a64"
      },
      "outputs": [
        {
          "output_type": "stream",
          "name": "stdout",
          "text": [
            "35.0\n"
          ]
        }
      ],
      "source": [
        "formula= Arbol(\n",
        "            Nodoi(\n",
        "                Nodoi(Nodoe(5),\"+\",Nodoe(2)),\n",
        "                \"*\",\n",
        "                Nodoi(\n",
        "                    Nodoe(8),\n",
        "                    \"-\",\n",
        "                    Nodoi(Nodoe(9),\"/\",Nodoe(3))\n",
        "                )\n",
        "            )\n",
        "        )\n",
        "print(formula.evaluar())"
      ]
    }
  ],
  "metadata": {
    "kernelspec": {
      "display_name": "Python 3",
      "language": "python",
      "name": "python3"
    },
    "language_info": {
      "codemirror_mode": {
        "name": "ipython",
        "version": 3
      },
      "file_extension": ".py",
      "mimetype": "text/x-python",
      "name": "python",
      "nbconvert_exporter": "python",
      "pygments_lexer": "ipython3",
      "version": "3.6.9"
    },
    "colab": {
      "provenance": []
    }
  },
  "nbformat": 4,
  "nbformat_minor": 0
}