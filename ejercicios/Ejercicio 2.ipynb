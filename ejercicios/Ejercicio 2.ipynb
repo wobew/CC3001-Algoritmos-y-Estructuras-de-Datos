{
  "cells": [
    {
      "cell_type": "markdown",
      "metadata": {
        "id": "dJDY_QWPMf_i"
      },
      "source": [
        "### Ejercicio 1.6 - Generando números binarios\n",
        "Una función recursiva que genera e imprime todos los números binarios de ``n`` dígitos se puede plantear con un encabezado de la siguiente manera:"
      ]
    },
    {
      "cell_type": "code",
      "execution_count": null,
      "metadata": {
        "id": "Y974U3l0Mf_j"
      },
      "outputs": [],
      "source": [
        "import numpy as np\n",
        "def genera_binarios(a,k,n):\n",
        "    #Aquí debes definir tu código\n",
        "    if k == n:\n",
        "      print(a)\n",
        "    else:\n",
        "      a[k] = 0\n",
        "      genera_binarios(a,k+1,n)\n",
        "      a[k] = 1\n",
        "      genera_binarios(a,k+1,n)"
      ]
    },
    {
      "cell_type": "markdown",
      "metadata": {
        "id": "tIMu1CP7Mf_j"
      },
      "source": [
        "Donde ``a`` es un arreglo que contiene los unos y ceros de los números que se van generando, el cual se va rellenando con valores de izquierda a derecha, ``k`` es el grado de avance en el proceso de generación (más precisamente cuantos dígitos se han generado hasta esta llamada) y ``n`` es la cantidad total de dígitos que deben generarse (``n = len(a)``). Por lo tanto ``n-k`` es la cantidad de dígitos que faltan por generar. Esta función se llama la primera vez de la siguiente manera:"
      ]
    },
    {
      "cell_type": "code",
      "execution_count": null,
      "metadata": {
        "id": "tqZpGWuDMf_j",
        "colab": {
          "base_uri": "https://localhost:8080/"
        },
        "outputId": "65f4728e-f740-41f1-854a-cf3543bcb18b"
      },
      "outputs": [
        {
          "output_type": "stream",
          "name": "stdout",
          "text": [
            "[0 0 0 0]\n",
            "[0 0 0 1]\n",
            "[0 0 1 0]\n",
            "[0 0 1 1]\n",
            "[0 1 0 0]\n",
            "[0 1 0 1]\n",
            "[0 1 1 0]\n",
            "[0 1 1 1]\n",
            "[1 0 0 0]\n",
            "[1 0 0 1]\n",
            "[1 0 1 0]\n",
            "[1 0 1 1]\n",
            "[1 1 0 0]\n",
            "[1 1 0 1]\n",
            "[1 1 1 0]\n",
            "[1 1 1 1]\n"
          ]
        }
      ],
      "source": [
        "import numpy as np\n",
        "n = 4\n",
        "a = np.empty(n,dtype=int) # arreglo de largo n sin inicializar\n",
        "genera_binarios(a,0,len(a))"
      ]
    },
    {
      "cell_type": "markdown",
      "metadata": {
        "id": "jbR-o8FyMf_k"
      },
      "source": [
        "Este código debe generar la salida:\n",
        "\n",
        "[0 0 0 0]\n",
        "\n",
        "[0 0 0 1]\n",
        "\n",
        "[0 0 1 0]\n",
        "\n",
        "[0 0 1 1]\n",
        "\n",
        "[0 1 0 0]\n",
        "\n",
        "[0 1 0 1]\n",
        "\n",
        "[0 1 1 0]\n",
        "\n",
        "[0 1 1 1]\n",
        "\n",
        "[1 0 0 0]\n",
        "\n",
        "[1 0 0 1]\n",
        "\n",
        "[1 0 1 0]\n",
        "\n",
        "[1 0 1 1]\n",
        "\n",
        "[1 1 0 0]\n",
        "\n",
        "[1 1 0 1]\n",
        "\n",
        "[1 1 1 0]\n",
        "\n",
        "[1 1 1 1]"
      ]
    },
    {
      "cell_type": "markdown",
      "metadata": {
        "id": "oVEtjoYHMf_k"
      },
      "source": [
        "Se le pide que escriba las instrucciones de la función ``genera_binarios`` de acuerdo al siguiente algoritmo:\n",
        "\n",
        "---\n",
        "\n",
        "\n",
        "\n",
        "* si el valor de ``k`` es igual a ``n``, ya se han generado todos los dígitos por\n",
        "    lo cual se imprime el arreglo en pantalla ``(print(a))``\n",
        "* si no, se hacen dos cosas:  \n",
        "    - se pone un 0 en la ``k``-ésima posicion y se llama recursivamente\n",
        "      a la función para que genere los dígitos restantes\n",
        "    - luego se pone un 1 en la misma ``k``-ésima posición (reemplazando el 0) y se\n",
        "      llama recursivamente a la función para que genere los dígitos restantes\n",
        "\n",
        "Pruebe su función con para el caso ``n=4``. Asegúrese de que genere el mismo resultado que el que aparece en el enunciado.\n"
      ]
    }
  ],
  "metadata": {
    "kernelspec": {
      "display_name": "Python 3",
      "language": "python",
      "name": "python3"
    },
    "language_info": {
      "codemirror_mode": {
        "name": "ipython",
        "version": 3
      },
      "file_extension": ".py",
      "mimetype": "text/x-python",
      "name": "python",
      "nbconvert_exporter": "python",
      "pygments_lexer": "ipython3",
      "version": "3.6.9"
    },
    "colab": {
      "provenance": [],
      "toc_visible": true
    }
  },
  "nbformat": 4,
  "nbformat_minor": 0
}