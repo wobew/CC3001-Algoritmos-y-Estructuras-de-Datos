{
  "cells": [
    {
      "cell_type": "markdown",
      "metadata": {
        "id": "Q8ZBChLq7zry"
      },
      "source": [
        "### Ejercicio 5.2\n",
        "\n",
        "Agregar a la clase Heap un método ``modificar(k,x)`` que al ser invocado, cambie la prioridad del elemento del casillero ``k``, dándole como nuevo valor ``x`` y asegurando que el heap siga cumpliendo las restricciones de orden. Esta operación debe funcionar en tiempo $O(\\log{n})$ en el peor caso. Escriba a continuación la definición del método ``modificar(k,x)``, y pruébela con las instrucciones que aparecen en el casillero siguiente."
      ]
    },
    {
      "cell_type": "code",
      "execution_count": null,
      "metadata": {
        "id": "jxjqRd4c7zrz"
      },
      "outputs": [],
      "source": [
        "import numpy as np\n",
        "def trepar(a,j): # El elemento a[j] trepa hasta su nivel de prioridad\n",
        "    while j>=1 and a[j]>a[(j-1)//2]:\n",
        "        (a[j],a[(j-1)//2])=(a[(j-1)//2],a[j]) # intercambiamos con el padre\n",
        "        j=(j-1)//2 # subimos al lugar del padre\n",
        "\n",
        "def hundir(a,j,n): # El elemento a[j] se hunde hasta su nivel de prioridad\n",
        "    while 2*j+1<n: # mientras tenga al menos 1 hijo\n",
        "        k=2*j+1 # el hijo izquierdo\n",
        "        if k+1<n and a[k+1]>a[k]: # el hijo derecho existe y es mayor\n",
        "            k+=1\n",
        "        if a[j]>=a[k]: # tiene mejor prioridad que ambos hijos\n",
        "            break\n",
        "        (a[j],a[k])=(a[k],a[j]) # se intercambia con el mayor de los hijos\n",
        "        j=k # bajamos al lugar del mayor de los hijos\n",
        "\n",
        "class Heap:\n",
        "    def __init__(self,maxn=100):\n",
        "        self.a=np.zeros(maxn)\n",
        "        self.n=0\n",
        "    def insert(self,x):\n",
        "        assert self.n<len(self.a)\n",
        "        self.a[self.n]=x\n",
        "        trepar(self.a,self.n)\n",
        "        self.n+=1\n",
        "    def extract_max(self):\n",
        "        assert self.n>0\n",
        "        x=self.a[0] # esta variable lleva el máximo, el casillero 0 queda vacante\n",
        "        self.n-=1   # achicamos el heap\n",
        "        self.a[0]=self.a[self.n] # movemos el elemento sobrante hacia el casillero vacante\n",
        "        hundir(self.a,0,self.n)\n",
        "        return x\n",
        "    def modificar(self, k, x): #Implementar esta función\n",
        "        self.a[k] = x\n",
        "        if self.a[k] > self.a[(k-1) // 2]:\n",
        "          trepar(self.a, k)\n",
        "        if self.a[k] < self.a[2*k + 1] or self.a[k] < self.a[2*k + 2]:\n",
        "          hundir(self.a, k, self.n)\n",
        "    def imprimir(self):\n",
        "        print(self.a[0:self.n])"
      ]
    },
    {
      "cell_type": "code",
      "execution_count": null,
      "metadata": {
        "id": "sVo2te9j7zrz",
        "colab": {
          "base_uri": "https://localhost:8080/"
        },
        "outputId": "7faa916a-b021-41bd-dd59-6966a6a7e53b"
      },
      "outputs": [
        {
          "output_type": "stream",
          "name": "stdout",
          "text": [
            "[70. 62. 55. 24. 50. 10. 21. 12. 20. 36.]\n",
            "[70. 65. 55. 24. 62. 10. 21. 12. 20. 36.]\n",
            "[70. 65. 55. 20. 62. 10. 21. 12. 15. 36.]\n"
          ]
        }
      ],
      "source": [
        "a=Heap(20)\n",
        "a.insert(55)\n",
        "a.insert(50)\n",
        "a.insert(70)\n",
        "a.insert(12)\n",
        "a.insert(36)\n",
        "a.insert(10)\n",
        "a.insert(21)\n",
        "a.insert(24)\n",
        "a.insert(20)\n",
        "a.insert(62)\n",
        "a.imprimir()\n",
        "a.modificar(4,65)\n",
        "a.imprimir()\n",
        "a.modificar(3,15)\n",
        "a.imprimir()"
      ]
    }
  ],
  "metadata": {
    "kernelspec": {
      "display_name": "Python 3",
      "language": "python",
      "name": "python3"
    },
    "language_info": {
      "codemirror_mode": {
        "name": "ipython",
        "version": 3
      },
      "file_extension": ".py",
      "mimetype": "text/x-python",
      "name": "python",
      "nbconvert_exporter": "python",
      "pygments_lexer": "ipython3",
      "version": "3.6.9"
    },
    "colab": {
      "provenance": []
    }
  },
  "nbformat": 4,
  "nbformat_minor": 0
}